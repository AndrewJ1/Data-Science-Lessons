{
 "cells": [
  {
   "cell_type": "markdown",
   "metadata": {
    "slideshow": {
     "slide_type": "slide"
    }
   },
   "source": [
    "# <center> ANOVA"
   ]
  },
  {
   "cell_type": "markdown",
   "metadata": {
    "slideshow": {
     "slide_type": "fragment"
    }
   },
   "source": [
    "## <center> Analysis of variance"
   ]
  },
  {
   "cell_type": "markdown",
   "metadata": {
    "slideshow": {
     "slide_type": "slide"
    }
   },
   "source": [
    "### Are the means of different groups the same or different?"
   ]
  },
  {
   "cell_type": "markdown",
   "metadata": {
    "slideshow": {
     "slide_type": "fragment"
    }
   },
   "source": [
    "<center><img src='anova_cartoon.jpg'>"
   ]
  },
  {
   "cell_type": "markdown",
   "metadata": {
    "slideshow": {
     "slide_type": "slide"
    }
   },
   "source": [
    "### <center> ANOVA Hypotheses"
   ]
  },
  {
   "cell_type": "markdown",
   "metadata": {
    "slideshow": {
     "slide_type": "fragment"
    }
   },
   "source": [
    "<center>Assuming we have more than two groups (1, 2, 3...k)."
   ]
  },
  {
   "cell_type": "markdown",
   "metadata": {
    "slideshow": {
     "slide_type": "fragment"
    }
   },
   "source": [
    "### Null Hypothesis (H<sub>0</sub>): µ1 = µ2 = µ3  = ...   = µk "
   ]
  },
  {
   "cell_type": "markdown",
   "metadata": {
    "slideshow": {
     "slide_type": "fragment"
    }
   },
   "source": [
    "### Alternative Hypothesis (H<sub>a</sub>): At least one µi different"
   ]
  },
  {
   "cell_type": "markdown",
   "metadata": {
    "slideshow": {
     "slide_type": "slide"
    }
   },
   "source": [
    "### Example"
   ]
  },
  {
   "cell_type": "markdown",
   "metadata": {
    "slideshow": {
     "slide_type": "fragment"
    }
   },
   "source": [
    "A company is wondering how they can best optimize the performance of their data scientists. They devise an experiment to test the effect of various substances on the quality of work completed by their data scientists. They come up with four groups: <br>\n",
    "\n",
    "          Group A:  Given 150mg of caffeine\n",
    "          Group B:  Given 2 ounces of alcohol\n",
    "          Group C:  Given 100g of chocolate\n",
    "          Group D:  Given 10 ounces of water\n",
    "          \n",
    "After ingesting their given substance, each data scientist was then given the same assessment. After two hours, the accuracy of each data scientist's model was evaluated and recorded and the results are shown below. With a confidence level of 95%, is there a difference in performance across the groups?\n"
   ]
  },
  {
   "cell_type": "code",
   "execution_count": 1,
   "metadata": {
    "slideshow": {
     "slide_type": "fragment"
    }
   },
   "outputs": [],
   "source": [
    "A = [0.92, 0.89, 0.94, 0.91, 0.79, 0.90, 0.96, 0.94, 0.92, 0.85]\n",
    "B = [0.65, 0.79, 0.99, 0.48, 0.54, 0.68, 0.52, 0.49, 0.52, 0.56]\n",
    "C = [0.85, 0.89, 0.91, 0.92, 0.86, 0.82, 0.94, 0.90, 0.91, 0.95]\n",
    "D = [0.69, 0.75, 0.85, 0.74, 0.76, 0.85, 0.78, 0.72, 0.84, 0.86]"
   ]
  },
  {
   "cell_type": "code",
   "execution_count": 2,
   "metadata": {
    "slideshow": {
     "slide_type": "slide"
    }
   },
   "outputs": [
    {
     "name": "stdout",
     "output_type": "stream",
     "text": [
      "F-stat: 19.986414188904373\n",
      "p-value: 8.500667468792516e-08\n"
     ]
    }
   ],
   "source": [
    "from scipy import stats\n",
    "f_stat,p_value = stats.f_oneway(A,B,C,D)\n",
    "print('F-stat:',f_stat)\n",
    "print('p-value:',p_value)"
   ]
  },
  {
   "cell_type": "markdown",
   "metadata": {
    "slideshow": {
     "slide_type": "slide"
    }
   },
   "source": [
    "Each F-distribution is unique in two values:\n",
    "\n",
    "    - degrees of freedom of groups\n",
    "    - degrees of freedom of all subjects"
   ]
  },
  {
   "cell_type": "markdown",
   "metadata": {
    "slideshow": {
     "slide_type": "fragment"
    }
   },
   "source": [
    "a = number of groups<br>\n",
    "N = total number of subjects"
   ]
  },
  {
   "cell_type": "markdown",
   "metadata": {
    "slideshow": {
     "slide_type": "fragment"
    }
   },
   "source": [
    "Degrees of freedom numerator = a - 1"
   ]
  },
  {
   "cell_type": "markdown",
   "metadata": {
    "slideshow": {
     "slide_type": "fragment"
    }
   },
   "source": [
    "Degrees of freedom denominator = N - a"
   ]
  },
  {
   "cell_type": "code",
   "execution_count": 3,
   "metadata": {},
   "outputs": [
    {
     "name": "stderr",
     "output_type": "stream",
     "text": [
      "C:\\Users\\Matthew\\Anaconda3\\lib\\site-packages\\scipy\\stats\\_continuous_distns.py:1591: RuntimeWarning: divide by zero encountered in log\n",
      "  lPx = m/2 * np.log(m) + n/2 * np.log(n) + (n/2 - 1) * np.log(x)\n"
     ]
    },
    {
     "data": {
      "text/plain": [
       "Text(0.5, 0, 'F-statistic')"
      ]
     },
     "execution_count": 3,
     "metadata": {},
     "output_type": "execute_result"
    }
   ],
   "source": [
    "import matplotlib.pyplot as plt\n",
    "import numpy as np\n",
    "\n",
    "x = np.linspace(0,5,1000)\n",
    "y = stats.f.pdf(x,3,16)\n",
    "plt.plot(x,y)\n",
    "plt.title('F-distribution dfn=3,dfd=16')\n",
    "plt.xlabel('F-statistic')"
   ]
  },
  {
   "cell_type": "code",
   "execution_count": 4,
   "metadata": {
    "slideshow": {
     "slide_type": "slide"
    }
   },
   "outputs": [
    {
     "name": "stderr",
     "output_type": "stream",
     "text": [
      "C:\\Users\\Matthew\\Anaconda3\\lib\\site-packages\\scipy\\stats\\_continuous_distns.py:1591: RuntimeWarning: divide by zero encountered in log\n",
      "  lPx = m/2 * np.log(m) + n/2 * np.log(n) + (n/2 - 1) * np.log(x)\n"
     ]
    },
    {
     "data": {
      "text/plain": [
       "Text(0.5, 0, 'F-statistic')"
      ]
     },
     "execution_count": 4,
     "metadata": {},
     "output_type": "execute_result"
    },
    {
     "data": {
      "image/png": "[encoded data removed]",
      "text/plain": [
       "<Figure size 432x288 with 1 Axes>"
      ]
     },
     "metadata": {
      "needs_background": "light"
     },
     "output_type": "display_data"
    }
   ],
   "source": [
    "x = np.linspace(0,5,1000)\n",
    "y = stats.f.pdf(x,3,16)\n",
    "plt.plot(x,y)\n",
    "y = stats.f.pdf(x,3,3)\n",
    "plt.plot(x,y)\n",
    "y = stats.f.pdf(x,16,3)\n",
    "plt.plot(x,y)\n",
    "y = stats.f.pdf(x,16,16)\n",
    "plt.plot(x,y)\n",
    "plt.legend(['dfn=3,dfd=17','dfn=3,dfd=3','dfn=17,dfd=3','dfn=17,dfd=17'])\n",
    "plt.title('F-distribution')\n",
    "plt.xlabel('F-statistic')"
   ]
  },
  {
   "cell_type": "markdown",
   "metadata": {
    "slideshow": {
     "slide_type": "slide"
    }
   },
   "source": [
    "## <center> ANOVA is a multiple linear regression"
   ]
  },
  {
   "cell_type": "code",
   "execution_count": 5,
   "metadata": {
    "slideshow": {
     "slide_type": "slide"
    }
   },
   "outputs": [
    {
     "data": {
      "text/html": [
       "<div>\n",
       "<style scoped>\n",
       "    .dataframe tbody tr th:only-of-type {\n",
       "        vertical-align: middle;\n",
       "    }\n",
       "\n",
       "    .dataframe tbody tr th {\n",
       "        vertical-align: top;\n",
       "    }\n",
       "\n",
       "    .dataframe thead th {\n",
       "        text-align: right;\n",
       "    }\n",
       "</style>\n",
       "<table border=\"1\" class=\"dataframe\">\n",
       "  <thead>\n",
       "    <tr style=\"text-align: right;\">\n",
       "      <th></th>\n",
       "      <th>Accuracy</th>\n",
       "      <th>Group_cat</th>\n",
       "      <th>Group_A</th>\n",
       "      <th>Group_B</th>\n",
       "      <th>Group_C</th>\n",
       "      <th>Group_D</th>\n",
       "      <th>Group</th>\n",
       "    </tr>\n",
       "  </thead>\n",
       "  <tbody>\n",
       "    <tr>\n",
       "      <th>0</th>\n",
       "      <td>0.92</td>\n",
       "      <td>0</td>\n",
       "      <td>1</td>\n",
       "      <td>0</td>\n",
       "      <td>0</td>\n",
       "      <td>0</td>\n",
       "      <td>A</td>\n",
       "    </tr>\n",
       "    <tr>\n",
       "      <th>1</th>\n",
       "      <td>0.89</td>\n",
       "      <td>0</td>\n",
       "      <td>1</td>\n",
       "      <td>0</td>\n",
       "      <td>0</td>\n",
       "      <td>0</td>\n",
       "      <td>A</td>\n",
       "    </tr>\n",
       "    <tr>\n",
       "      <th>2</th>\n",
       "      <td>0.94</td>\n",
       "      <td>0</td>\n",
       "      <td>1</td>\n",
       "      <td>0</td>\n",
       "      <td>0</td>\n",
       "      <td>0</td>\n",
       "      <td>A</td>\n",
       "    </tr>\n",
       "    <tr>\n",
       "      <th>3</th>\n",
       "      <td>0.91</td>\n",
       "      <td>0</td>\n",
       "      <td>1</td>\n",
       "      <td>0</td>\n",
       "      <td>0</td>\n",
       "      <td>0</td>\n",
       "      <td>A</td>\n",
       "    </tr>\n",
       "    <tr>\n",
       "      <th>4</th>\n",
       "      <td>0.79</td>\n",
       "      <td>0</td>\n",
       "      <td>1</td>\n",
       "      <td>0</td>\n",
       "      <td>0</td>\n",
       "      <td>0</td>\n",
       "      <td>A</td>\n",
       "    </tr>\n",
       "  </tbody>\n",
       "</table>\n",
       "</div>"
      ],
      "text/plain": [
       "   Accuracy  Group_cat  Group_A  Group_B  Group_C  Group_D Group\n",
       "0      0.92          0        1        0        0        0     A\n",
       "1      0.89          0        1        0        0        0     A\n",
       "2      0.94          0        1        0        0        0     A\n",
       "3      0.91          0        1        0        0        0     A\n",
       "4      0.79          0        1        0        0        0     A"
      ]
     },
     "execution_count": 5,
     "metadata": {},
     "output_type": "execute_result"
    }
   ],
   "source": [
    "import pandas as pd\n",
    "df = pd.DataFrame()\n",
    "df['Group'] = ['A']*len(A) + ['B']*len(B) + ['C']*len(C) + ['D']*len(D)\n",
    "df['Accuracy'] = A + B + C + D\n",
    "df['Group'] = df['Group'].astype('category')\n",
    "df['Group_cat'] = df['Group'].cat.codes\n",
    "df = pd.get_dummies(df)\n",
    "df['Group'] = ['A']*len(A) + ['B']*len(B) + ['C']*len(C) + ['D']*len(D)\n",
    "df.head()"
   ]
  },
  {
   "cell_type": "code",
   "execution_count": 6,
   "metadata": {},
   "outputs": [
    {
     "data": {
      "text/plain": [
       "[0.9019999999999999, 0.6220000000000001, 0.8949999999999999, 0.784]"
      ]
     },
     "execution_count": 6,
     "metadata": {},
     "output_type": "execute_result"
    }
   ],
   "source": [
    "means = [np.mean(x) for x in [A,B,C,D]]\n",
    "means"
   ]
  },
  {
   "cell_type": "code",
   "execution_count": 7,
   "metadata": {},
   "outputs": [
    {
     "name": "stderr",
     "output_type": "stream",
     "text": [
      "C:\\Users\\Matthew\\Anaconda3\\lib\\site-packages\\scipy\\stats\\stats.py:1713: FutureWarning: Using a non-tuple sequence for multidimensional indexing is deprecated; use `arr[tuple(seq)]` instead of `arr[seq]`. In the future this will be interpreted as an array index, `arr[np.array(seq)]`, which will result either in an error or a different result.\n",
      "  return np.add.reduce(sorted[indexer] * weights, axis=axis) / sumval\n"
     ]
    },
    {
     "data": {
      "text/plain": [
       "<matplotlib.collections.PathCollection at 0x13c78b45eb8>"
      ]
     },
     "execution_count": 7,
     "metadata": {},
     "output_type": "execute_result"
    },
    {
     "data": {
      "image/png": "[encoded data removed]",
      "text/plain": [
       "<Figure size 432x288 with 1 Axes>"
      ]
     },
     "metadata": {
      "needs_background": "light"
     },
     "output_type": "display_data"
    }
   ],
   "source": [
    "import seaborn as sns\n",
    "sns.regplot(df['Group_cat'], B+D+C+A)\n",
    "color = ['blue']*len(A) + ['red']*len(B) + ['green']*len(C) + ['yellow']*len(D)\n",
    "plt.scatter(['B']*len(B)+['D']*len(D)+['C']*len(C)+['A']*len(A),B+D+C+A, c=color)"
   ]
  },
  {
   "cell_type": "code",
   "execution_count": 8,
   "metadata": {
    "slideshow": {
     "slide_type": "slide"
    }
   },
   "outputs": [
    {
     "data": {
      "text/html": [
       "<table class=\"simpletable\">\n",
       "<caption>OLS Regression Results</caption>\n",
       "<tr>\n",
       "  <th>Dep. Variable:</th>        <td>Accuracy</td>     <th>  R-squared:         </th> <td>   0.625</td>\n",
       "</tr>\n",
       "<tr>\n",
       "  <th>Model:</th>                   <td>OLS</td>       <th>  Adj. R-squared:    </th> <td>   0.594</td>\n",
       "</tr>\n",
       "<tr>\n",
       "  <th>Method:</th>             <td>Least Squares</td>  <th>  F-statistic:       </th> <td>   19.99</td>\n",
       "</tr>\n",
       "<tr>\n",
       "  <th>Date:</th>             <td>Wed, 13 Nov 2019</td> <th>  Prob (F-statistic):</th> <td>8.50e-08</td>\n",
       "</tr>\n",
       "<tr>\n",
       "  <th>Time:</th>                 <td>13:42:44</td>     <th>  Log-Likelihood:    </th> <td>  40.547</td>\n",
       "</tr>\n",
       "<tr>\n",
       "  <th>No. Observations:</th>      <td>    40</td>      <th>  AIC:               </th> <td>  -73.09</td>\n",
       "</tr>\n",
       "<tr>\n",
       "  <th>Df Residuals:</th>          <td>    36</td>      <th>  BIC:               </th> <td>  -66.34</td>\n",
       "</tr>\n",
       "<tr>\n",
       "  <th>Df Model:</th>              <td>     3</td>      <th>                     </th>     <td> </td>   \n",
       "</tr>\n",
       "<tr>\n",
       "  <th>Covariance Type:</th>      <td>nonrobust</td>    <th>                     </th>     <td> </td>   \n",
       "</tr>\n",
       "</table>\n",
       "<table class=\"simpletable\">\n",
       "<tr>\n",
       "     <td></td>        <th>coef</th>     <th>std err</th>      <th>t</th>      <th>P>|t|</th>  <th>[0.025</th>    <th>0.975]</th>  \n",
       "</tr>\n",
       "<tr>\n",
       "  <th>const</th>   <td>    0.6406</td> <td>    0.012</td> <td>   54.716</td> <td> 0.000</td> <td>    0.617</td> <td>    0.664</td>\n",
       "</tr>\n",
       "<tr>\n",
       "  <th>Group_A</th> <td>    0.2614</td> <td>    0.026</td> <td>   10.244</td> <td> 0.000</td> <td>    0.210</td> <td>    0.313</td>\n",
       "</tr>\n",
       "<tr>\n",
       "  <th>Group_B</th> <td>   -0.0186</td> <td>    0.026</td> <td>   -0.729</td> <td> 0.471</td> <td>   -0.070</td> <td>    0.033</td>\n",
       "</tr>\n",
       "<tr>\n",
       "  <th>Group_C</th> <td>    0.2544</td> <td>    0.026</td> <td>    9.970</td> <td> 0.000</td> <td>    0.203</td> <td>    0.306</td>\n",
       "</tr>\n",
       "<tr>\n",
       "  <th>Group_D</th> <td>    0.1434</td> <td>    0.026</td> <td>    5.620</td> <td> 0.000</td> <td>    0.092</td> <td>    0.195</td>\n",
       "</tr>\n",
       "</table>\n",
       "<table class=\"simpletable\">\n",
       "<tr>\n",
       "  <th>Omnibus:</th>       <td>28.051</td> <th>  Durbin-Watson:     </th> <td>   1.697</td>\n",
       "</tr>\n",
       "<tr>\n",
       "  <th>Prob(Omnibus):</th> <td> 0.000</td> <th>  Jarque-Bera (JB):  </th> <td>  71.584</td>\n",
       "</tr>\n",
       "<tr>\n",
       "  <th>Skew:</th>          <td> 1.668</td> <th>  Prob(JB):          </th> <td>2.86e-16</td>\n",
       "</tr>\n",
       "<tr>\n",
       "  <th>Kurtosis:</th>      <td> 8.641</td> <th>  Cond. No.          </th> <td>7.50e+15</td>\n",
       "</tr>\n",
       "</table><br/><br/>Warnings:<br/>[1] Standard Errors assume that the covariance matrix of the errors is correctly specified.<br/>[2] The smallest eigenvalue is 8.89e-31. This might indicate that there are<br/>strong multicollinearity problems or that the design matrix is singular."
      ],
      "text/plain": [
       "<class 'statsmodels.iolib.summary.Summary'>\n",
       "\"\"\"\n",
       "                            OLS Regression Results                            \n",
       "==============================================================================\n",
       "Dep. Variable:               Accuracy   R-squared:                       0.625\n",
       "Model:                            OLS   Adj. R-squared:                  0.594\n",
       "Method:                 Least Squares   F-statistic:                     19.99\n",
       "Date:                Wed, 13 Nov 2019   Prob (F-statistic):           8.50e-08\n",
       "Time:                        13:42:44   Log-Likelihood:                 40.547\n",
       "No. Observations:                  40   AIC:                            -73.09\n",
       "Df Residuals:                      36   BIC:                            -66.34\n",
       "Df Model:                           3                                         \n",
       "Covariance Type:            nonrobust                                         \n",
       "==============================================================================\n",
       "                 coef    std err          t      P>|t|      [0.025      0.975]\n",
       "------------------------------------------------------------------------------\n",
       "const          0.6406      0.012     54.716      0.000       0.617       0.664\n",
       "Group_A        0.2614      0.026     10.244      0.000       0.210       0.313\n",
       "Group_B       -0.0186      0.026     -0.729      0.471      -0.070       0.033\n",
       "Group_C        0.2544      0.026      9.970      0.000       0.203       0.306\n",
       "Group_D        0.1434      0.026      5.620      0.000       0.092       0.195\n",
       "==============================================================================\n",
       "Omnibus:                       28.051   Durbin-Watson:                   1.697\n",
       "Prob(Omnibus):                  0.000   Jarque-Bera (JB):               71.584\n",
       "Skew:                           1.668   Prob(JB):                     2.86e-16\n",
       "Kurtosis:                       8.641   Cond. No.                     7.50e+15\n",
       "==============================================================================\n",
       "\n",
       "Warnings:\n",
       "[1] Standard Errors assume that the covariance matrix of the errors is correctly specified.\n",
       "[2] The smallest eigenvalue is 8.89e-31. This might indicate that there are\n",
       "strong multicollinearity problems or that the design matrix is singular.\n",
       "\"\"\""
      ]
     },
     "execution_count": 8,
     "metadata": {},
     "output_type": "execute_result"
    }
   ],
   "source": [
    "import statsmodels.api as sm\n",
    "results = sm.OLS(df['Accuracy'], sm.add_constant(df[['Group_A','Group_B','Group_C','Group_D']])).fit()\n",
    "results.summary()"
   ]
  },
  {
   "cell_type": "code",
   "execution_count": 9,
   "metadata": {
    "slideshow": {
     "slide_type": "fragment"
    }
   },
   "outputs": [
    {
     "data": {
      "text/plain": [
       "[0.9019999999999999, 0.6220000000000001, 0.8949999999999999, 0.784]"
      ]
     },
     "execution_count": 9,
     "metadata": {},
     "output_type": "execute_result"
    }
   ],
   "source": [
    "means"
   ]
  },
  {
   "cell_type": "markdown",
   "metadata": {
    "slideshow": {
     "slide_type": "fragment"
    }
   },
   "source": [
    "If you remove the constant, the coefficients are just the group means!"
   ]
  },
  {
   "cell_type": "code",
   "execution_count": 10,
   "metadata": {
    "slideshow": {
     "slide_type": "slide"
    }
   },
   "outputs": [
    {
     "data": {
      "text/html": [
       "<div>\n",
       "<style scoped>\n",
       "    .dataframe tbody tr th:only-of-type {\n",
       "        vertical-align: middle;\n",
       "    }\n",
       "\n",
       "    .dataframe tbody tr th {\n",
       "        vertical-align: top;\n",
       "    }\n",
       "\n",
       "    .dataframe thead th {\n",
       "        text-align: right;\n",
       "    }\n",
       "</style>\n",
       "<table border=\"1\" class=\"dataframe\">\n",
       "  <thead>\n",
       "    <tr style=\"text-align: right;\">\n",
       "      <th></th>\n",
       "      <th>df</th>\n",
       "      <th>sum_sq</th>\n",
       "      <th>mean_sq</th>\n",
       "      <th>F</th>\n",
       "      <th>PR(&gt;F)</th>\n",
       "    </tr>\n",
       "  </thead>\n",
       "  <tbody>\n",
       "    <tr>\n",
       "      <th>Group</th>\n",
       "      <td>3.0</td>\n",
       "      <td>0.513667</td>\n",
       "      <td>0.171222</td>\n",
       "      <td>19.986414</td>\n",
       "      <td>8.500667e-08</td>\n",
       "    </tr>\n",
       "    <tr>\n",
       "      <th>Residual</th>\n",
       "      <td>36.0</td>\n",
       "      <td>0.308410</td>\n",
       "      <td>0.008567</td>\n",
       "      <td>NaN</td>\n",
       "      <td>NaN</td>\n",
       "    </tr>\n",
       "  </tbody>\n",
       "</table>\n",
       "</div>"
      ],
      "text/plain": [
       "            df    sum_sq   mean_sq          F        PR(>F)\n",
       "Group      3.0  0.513667  0.171222  19.986414  8.500667e-08\n",
       "Residual  36.0  0.308410  0.008567        NaN           NaN"
      ]
     },
     "execution_count": 10,
     "metadata": {},
     "output_type": "execute_result"
    }
   ],
   "source": [
    "from statsmodels.formula.api import ols\n",
    "sm.stats.anova_lm(ols('Accuracy ~ Group', data=df).fit())"
   ]
  },
  {
   "cell_type": "code",
   "execution_count": 11,
   "metadata": {
    "slideshow": {
     "slide_type": "fragment"
    }
   },
   "outputs": [
    {
     "data": {
      "text/plain": [
       "(19.986414188904373, 8.500667468792516e-08)"
      ]
     },
     "execution_count": 11,
     "metadata": {},
     "output_type": "execute_result"
    }
   ],
   "source": [
    "f_stat, p_value"
   ]
  },
  {
   "cell_type": "code",
   "execution_count": 12,
   "metadata": {
    "slideshow": {
     "slide_type": "slide"
    }
   },
   "outputs": [
    {
     "name": "stderr",
     "output_type": "stream",
     "text": [
      "C:\\Users\\Matthew\\Anaconda3\\lib\\site-packages\\scipy\\stats\\stats.py:1713: FutureWarning: Using a non-tuple sequence for multidimensional indexing is deprecated; use `arr[tuple(seq)]` instead of `arr[seq]`. In the future this will be interpreted as an array index, `arr[np.array(seq)]`, which will result either in an error or a different result.\n",
      "  return np.add.reduce(sorted[indexer] * weights, axis=axis) / sumval\n"
     ]
    },
    {
     "data": {
      "text/plain": [
       "<matplotlib.collections.PathCollection at 0x13c7b2840b8>"
      ]
     },
     "execution_count": 12,
     "metadata": {},
     "output_type": "execute_result"
    },
    {
     "data": {
      "image/png": "[encoded data removed]",
      "text/plain": [
       "<Figure size 432x288 with 1 Axes>"
      ]
     },
     "metadata": {
      "needs_background": "light"
     },
     "output_type": "display_data"
    }
   ],
   "source": [
    "df_2 = df.copy()\n",
    "df_2['Accuracy']= C+C+A+A\n",
    "sns.regplot(df['Group_cat'], C+C+A+A)\n",
    "color = ['blue']*len(A) + ['red']*len(B) + ['green']*len(C) + ['yellow']*len(D)\n",
    "plt.scatter(['B']*len(C)+['D']*len(D)+['C']*len(B)+['A']*len(A),C+C+A+A, c=color)"
   ]
  },
  {
   "cell_type": "code",
   "execution_count": 13,
   "metadata": {
    "slideshow": {
     "slide_type": "fragment"
    }
   },
   "outputs": [
    {
     "data": {
      "text/html": [
       "<div>\n",
       "<style scoped>\n",
       "    .dataframe tbody tr th:only-of-type {\n",
       "        vertical-align: middle;\n",
       "    }\n",
       "\n",
       "    .dataframe tbody tr th {\n",
       "        vertical-align: top;\n",
       "    }\n",
       "\n",
       "    .dataframe thead th {\n",
       "        text-align: right;\n",
       "    }\n",
       "</style>\n",
       "<table border=\"1\" class=\"dataframe\">\n",
       "  <thead>\n",
       "    <tr style=\"text-align: right;\">\n",
       "      <th></th>\n",
       "      <th>df</th>\n",
       "      <th>sum_sq</th>\n",
       "      <th>mean_sq</th>\n",
       "      <th>F</th>\n",
       "      <th>PR(&gt;F)</th>\n",
       "    </tr>\n",
       "  </thead>\n",
       "  <tbody>\n",
       "    <tr>\n",
       "      <th>Group</th>\n",
       "      <td>3.0</td>\n",
       "      <td>0.00049</td>\n",
       "      <td>0.000163</td>\n",
       "      <td>0.078589</td>\n",
       "      <td>0.971195</td>\n",
       "    </tr>\n",
       "    <tr>\n",
       "      <th>Residual</th>\n",
       "      <td>36.0</td>\n",
       "      <td>0.07482</td>\n",
       "      <td>0.002078</td>\n",
       "      <td>NaN</td>\n",
       "      <td>NaN</td>\n",
       "    </tr>\n",
       "  </tbody>\n",
       "</table>\n",
       "</div>"
      ],
      "text/plain": [
       "            df   sum_sq   mean_sq         F    PR(>F)\n",
       "Group      3.0  0.00049  0.000163  0.078589  0.971195\n",
       "Residual  36.0  0.07482  0.002078       NaN       NaN"
      ]
     },
     "execution_count": 13,
     "metadata": {},
     "output_type": "execute_result"
    }
   ],
   "source": [
    "sm.stats.anova_lm(ols('Accuracy ~ Group', data=df_2).fit())"
   ]
  },
  {
   "cell_type": "markdown",
   "metadata": {
    "slideshow": {
     "slide_type": "slide"
    }
   },
   "source": [
    "### So there is a difference, but where is it?"
   ]
  },
  {
   "cell_type": "markdown",
   "metadata": {
    "slideshow": {
     "slide_type": "fragment"
    }
   },
   "source": [
    "## <center> Tukey's HSD"
   ]
  },
  {
   "cell_type": "markdown",
   "metadata": {
    "slideshow": {
     "slide_type": "fragment"
    }
   },
   "source": [
    " ### <center>Honestly Significant Difference"
   ]
  },
  {
   "cell_type": "markdown",
   "metadata": {
    "slideshow": {
     "slide_type": "fragment"
    }
   },
   "source": [
    "<center>A post-hoc test"
   ]
  },
  {
   "cell_type": "code",
   "execution_count": 14,
   "metadata": {
    "slideshow": {
     "slide_type": "slide"
    }
   },
   "outputs": [],
   "source": [
    "from statsmodels.stats.multicomp import pairwise_tukeyhsd"
   ]
  },
  {
   "cell_type": "code",
   "execution_count": 15,
   "metadata": {
    "slideshow": {
     "slide_type": "fragment"
    }
   },
   "outputs": [
    {
     "data": {
      "text/html": [
       "<table class=\"simpletable\">\n",
       "<caption>Multiple Comparison of Means - Tukey HSD,FWER=0.05</caption>\n",
       "<tr>\n",
       "  <th>group1</th> <th>group2</th> <th>meandiff</th>  <th>lower</th>   <th>upper</th>  <th>reject</th>\n",
       "</tr>\n",
       "<tr>\n",
       "     <td>A</td>      <td>B</td>     <td>-0.28</td>  <td>-0.3915</td> <td>-0.1685</td>  <td>True</td> \n",
       "</tr>\n",
       "<tr>\n",
       "     <td>A</td>      <td>C</td>    <td>-0.007</td>  <td>-0.1185</td> <td>0.1045</td>   <td>False</td>\n",
       "</tr>\n",
       "<tr>\n",
       "     <td>A</td>      <td>D</td>    <td>-0.118</td>  <td>-0.2295</td> <td>-0.0065</td>  <td>True</td> \n",
       "</tr>\n",
       "<tr>\n",
       "     <td>B</td>      <td>C</td>     <td>0.273</td>  <td>0.1615</td>  <td>0.3845</td>   <td>True</td> \n",
       "</tr>\n",
       "<tr>\n",
       "     <td>B</td>      <td>D</td>     <td>0.162</td>  <td>0.0505</td>  <td>0.2735</td>   <td>True</td> \n",
       "</tr>\n",
       "<tr>\n",
       "     <td>C</td>      <td>D</td>    <td>-0.111</td>  <td>-0.2225</td> <td>0.0005</td>   <td>False</td>\n",
       "</tr>\n",
       "</table>"
      ],
      "text/plain": [
       "<class 'statsmodels.iolib.table.SimpleTable'>"
      ]
     },
     "execution_count": 15,
     "metadata": {},
     "output_type": "execute_result"
    }
   ],
   "source": [
    "tukey_results = pairwise_tukeyhsd(df['Accuracy'], df['Group'])\n",
    "tukey_results.summary()"
   ]
  },
  {
   "cell_type": "code",
   "execution_count": 16,
   "metadata": {
    "slideshow": {
     "slide_type": "fragment"
    }
   },
   "outputs": [
    {
     "name": "stderr",
     "output_type": "stream",
     "text": [
      "C:\\Users\\Matthew\\Anaconda3\\lib\\site-packages\\matplotlib\\figure.py:448: UserWarning: Matplotlib is currently using module://ipykernel.pylab.backend_inline, which is a non-GUI backend, so cannot show the figure.\n",
      "  % get_backend())\n"
     ]
    },
    {
     "data": {
      "image/png": "[encoded data removed]",
      "text/plain": [
       "<Figure size 720x432 with 1 Axes>"
      ]
     },
     "metadata": {
      "needs_background": "light"
     },
     "output_type": "display_data"
    }
   ],
   "source": [
    "tukey_results.plot_simultaneous().show()"
   ]
  },
  {
   "cell_type": "markdown",
   "metadata": {
    "slideshow": {
     "slide_type": "slide"
    }
   },
   "source": [
    "### <center>ANOVA tells you there is a difference"
   ]
  },
  {
   "cell_type": "markdown",
   "metadata": {
    "slideshow": {
     "slide_type": "fragment"
    }
   },
   "source": [
    "### <center>Tukey's tells you where the difference is"
   ]
  },
  {
   "cell_type": "markdown",
   "metadata": {
    "slideshow": {
     "slide_type": "slide"
    }
   },
   "source": [
    "### <center>But wait, why can't we just use multiple t-tests for the comparisons?"
   ]
  },
  {
   "cell_type": "code",
   "execution_count": 17,
   "metadata": {
    "slideshow": {
     "slide_type": "fragment"
    }
   },
   "outputs": [],
   "source": [
    "p_values = [0.050, 0.042, 0.038, 0.047, 0.039, 0.045]"
   ]
  },
  {
   "cell_type": "code",
   "execution_count": 18,
   "metadata": {
    "slideshow": {
     "slide_type": "fragment"
    }
   },
   "outputs": [
    {
     "data": {
      "text/plain": [
       "0.7657444297348428"
      ]
     },
     "execution_count": 18,
     "metadata": {},
     "output_type": "execute_result"
    }
   ],
   "source": [
    "np.prod([1-p for p in p_values])"
   ]
  },
  {
   "cell_type": "code",
   "execution_count": 19,
   "metadata": {
    "slideshow": {
     "slide_type": "fragment"
    }
   },
   "outputs": [
    {
     "data": {
      "text/plain": [
       "0.5863645316699396"
      ]
     },
     "execution_count": 19,
     "metadata": {},
     "output_type": "execute_result"
    }
   ],
   "source": [
    "p_values = p_values+p_values\n",
    "np.prod([1-p for p in p_values])"
   ]
  },
  {
   "cell_type": "markdown",
   "metadata": {
    "slideshow": {
     "slide_type": "fragment"
    }
   },
   "source": [
    "### <center>Tukey's HSD accounts for the family-wise error rate when running multiple t-tests in tandem."
   ]
  },
  {
   "cell_type": "markdown",
   "metadata": {
    "slideshow": {
     "slide_type": "slide"
    }
   },
   "source": [
    "What if the company also wants to consider the level of the data scientist in their analysis? <br>\n",
    "Below is the data for whether each data scientist is junior, mid, or senior level where J=junior, M=mid, and S=senior."
   ]
  },
  {
   "cell_type": "code",
   "execution_count": 20,
   "metadata": {
    "slideshow": {
     "slide_type": "fragment"
    }
   },
   "outputs": [],
   "source": [
    "A_levels = ['M', 'S', 'M', 'J', 'S', 'S', 'S', 'M', 'J', 'S']\n",
    "B_levels = ['J', 'J', 'S', 'J', 'J', 'M', 'J', 'M', 'M', 'J']\n",
    "C_levels = ['M', 'J', 'S', 'S', 'S', 'S', 'M', 'J', 'J', 'J']\n",
    "D_levels = ['M', 'S', 'J', 'M', 'S', 'M', 'J', 'M', 'S', 'M']"
   ]
  },
  {
   "cell_type": "markdown",
   "metadata": {
    "slideshow": {
     "slide_type": "slide"
    }
   },
   "source": [
    "## <center> Two-way ANOVA"
   ]
  },
  {
   "cell_type": "markdown",
   "metadata": {
    "slideshow": {
     "slide_type": "fragment"
    }
   },
   "source": [
    "<center> Compares groups split by two different independent factors."
   ]
  },
  {
   "cell_type": "markdown",
   "metadata": {
    "slideshow": {
     "slide_type": "slide"
    }
   },
   "source": [
    "### <center> Two-way ANOVA Hypotheses"
   ]
  },
  {
   "cell_type": "markdown",
   "metadata": {
    "slideshow": {
     "slide_type": "fragment"
    }
   },
   "source": [
    "### Null Hypothesis (H<sub>0</sub>): Aµ1 = Aµ2 = Aµ3  = ...   = Aµk \n",
    "\n",
    "### Null Hypothesis (H<sub>0</sub>): Bµ1 = Bµ2 = Bµ3  = ...   = Bµk \n",
    "\n",
    "### Null Hypothesis (H<sub>0</sub>): A * B = 0, or there is no interaction between A and B"
   ]
  },
  {
   "cell_type": "markdown",
   "metadata": {
    "slideshow": {
     "slide_type": "fragment"
    }
   },
   "source": [
    "### Alternative Hypothesis (H<sub>a</sub>): At least one Aµk is different\n",
    "\n",
    "### Alternative Hypothesis (H<sub>a</sub>): At least one Bµk is different\n",
    "\n",
    "### Alternative Hypothesis (H<sub>a</sub>): A * B != 0, or there is some interaction between A and B"
   ]
  },
  {
   "cell_type": "code",
   "execution_count": 21,
   "metadata": {
    "slideshow": {
     "slide_type": "slide"
    }
   },
   "outputs": [],
   "source": [
    "df['Level'] = A_levels + B_levels + C_levels + D_levels"
   ]
  },
  {
   "cell_type": "code",
   "execution_count": 22,
   "metadata": {
    "slideshow": {
     "slide_type": "fragment"
    }
   },
   "outputs": [
    {
     "data": {
      "text/html": [
       "<div>\n",
       "<style scoped>\n",
       "    .dataframe tbody tr th:only-of-type {\n",
       "        vertical-align: middle;\n",
       "    }\n",
       "\n",
       "    .dataframe tbody tr th {\n",
       "        vertical-align: top;\n",
       "    }\n",
       "\n",
       "    .dataframe thead th {\n",
       "        text-align: right;\n",
       "    }\n",
       "</style>\n",
       "<table border=\"1\" class=\"dataframe\">\n",
       "  <thead>\n",
       "    <tr style=\"text-align: right;\">\n",
       "      <th></th>\n",
       "      <th>sum_sq</th>\n",
       "      <th>df</th>\n",
       "      <th>F</th>\n",
       "      <th>PR(&gt;F)</th>\n",
       "    </tr>\n",
       "  </thead>\n",
       "  <tbody>\n",
       "    <tr>\n",
       "      <th>Group</th>\n",
       "      <td>0.436943</td>\n",
       "      <td>3.0</td>\n",
       "      <td>28.074708</td>\n",
       "      <td>1.374994e-08</td>\n",
       "    </tr>\n",
       "    <tr>\n",
       "      <th>Level</th>\n",
       "      <td>0.004337</td>\n",
       "      <td>2.0</td>\n",
       "      <td>0.417975</td>\n",
       "      <td>6.624187e-01</td>\n",
       "    </tr>\n",
       "    <tr>\n",
       "      <th>Group:Level</th>\n",
       "      <td>0.158813</td>\n",
       "      <td>6.0</td>\n",
       "      <td>5.102081</td>\n",
       "      <td>1.191281e-03</td>\n",
       "    </tr>\n",
       "    <tr>\n",
       "      <th>Residual</th>\n",
       "      <td>0.145260</td>\n",
       "      <td>28.0</td>\n",
       "      <td>NaN</td>\n",
       "      <td>NaN</td>\n",
       "    </tr>\n",
       "  </tbody>\n",
       "</table>\n",
       "</div>"
      ],
      "text/plain": [
       "               sum_sq    df          F        PR(>F)\n",
       "Group        0.436943   3.0  28.074708  1.374994e-08\n",
       "Level        0.004337   2.0   0.417975  6.624187e-01\n",
       "Group:Level  0.158813   6.0   5.102081  1.191281e-03\n",
       "Residual     0.145260  28.0        NaN           NaN"
      ]
     },
     "execution_count": 22,
     "metadata": {},
     "output_type": "execute_result"
    }
   ],
   "source": [
    "sm.stats.anova_lm(ols('Accuracy ~ Group*Level', data=df).fit(), typ=2)"
   ]
  },
  {
   "cell_type": "markdown",
   "metadata": {
    "slideshow": {
     "slide_type": "fragment"
    }
   },
   "source": [
    "From this we can reject the first and third null hypotheses. There is some statistically significant differnce for the different Groups and there is some statistically significant interaction between Group and Level. <br>\n",
    "We fail to reject the second null hypothesis. There is no statistically significant difference between the Level groups."
   ]
  },
  {
   "cell_type": "code",
   "execution_count": 23,
   "metadata": {
    "slideshow": {
     "slide_type": "slide"
    }
   },
   "outputs": [
    {
     "data": {
      "text/html": [
       "<table class=\"simpletable\">\n",
       "<caption>Multiple Comparison of Means - Tukey HSD,FWER=0.05</caption>\n",
       "<tr>\n",
       "  <th>group1</th> <th>group2</th> <th>meandiff</th>  <th>lower</th>   <th>upper</th>  <th>reject</th>\n",
       "</tr>\n",
       "<tr>\n",
       "    <td>AJ</td>     <td>AM</td>    <td>0.0183</td>  <td>-0.2155</td> <td>0.2521</td>   <td>False</td>\n",
       "</tr>\n",
       "<tr>\n",
       "    <td>AJ</td>     <td>AS</td>    <td>-0.037</td>  <td>-0.2513</td> <td>0.1773</td>   <td>False</td>\n",
       "</tr>\n",
       "<tr>\n",
       "    <td>AJ</td>     <td>BJ</td>    <td>-0.325</td>  <td>-0.5341</td> <td>-0.1159</td>  <td>True</td> \n",
       "</tr>\n",
       "<tr>\n",
       "    <td>AJ</td>     <td>BM</td>    <td>-0.3517</td> <td>-0.5855</td> <td>-0.1179</td>  <td>True</td> \n",
       "</tr>\n",
       "<tr>\n",
       "    <td>AJ</td>     <td>BS</td>     <td>0.075</td>  <td>-0.2387</td> <td>0.3887</td>   <td>False</td>\n",
       "</tr>\n",
       "<tr>\n",
       "    <td>AJ</td>     <td>CJ</td>    <td>-0.0025</td> <td>-0.2243</td> <td>0.2193</td>   <td>False</td>\n",
       "</tr>\n",
       "<tr>\n",
       "    <td>AJ</td>     <td>CM</td>     <td>-0.02</td>  <td>-0.2761</td> <td>0.2361</td>   <td>False</td>\n",
       "</tr>\n",
       "<tr>\n",
       "    <td>AJ</td>     <td>CS</td>    <td>-0.0375</td> <td>-0.2593</td> <td>0.1843</td>   <td>False</td>\n",
       "</tr>\n",
       "<tr>\n",
       "    <td>AJ</td>     <td>DJ</td>     <td>-0.1</td>   <td>-0.3561</td> <td>0.1561</td>   <td>False</td>\n",
       "</tr>\n",
       "<tr>\n",
       "    <td>AJ</td>     <td>DM</td>    <td>-0.143</td>  <td>-0.3573</td> <td>0.0713</td>   <td>False</td>\n",
       "</tr>\n",
       "<tr>\n",
       "    <td>AJ</td>     <td>DS</td>    <td>-0.1317</td> <td>-0.3655</td> <td>0.1021</td>   <td>False</td>\n",
       "</tr>\n",
       "<tr>\n",
       "    <td>AM</td>     <td>AS</td>    <td>-0.0553</td> <td>-0.2424</td> <td>0.1317</td>   <td>False</td>\n",
       "</tr>\n",
       "<tr>\n",
       "    <td>AM</td>     <td>BJ</td>    <td>-0.3433</td> <td>-0.5244</td> <td>-0.1622</td>  <td>True</td> \n",
       "</tr>\n",
       "<tr>\n",
       "    <td>AM</td>     <td>BM</td>     <td>-0.37</td>  <td>-0.5791</td> <td>-0.1609</td>  <td>True</td> \n",
       "</tr>\n",
       "<tr>\n",
       "    <td>AM</td>     <td>BS</td>    <td>0.0567</td>  <td>-0.2391</td> <td>0.3524</td>   <td>False</td>\n",
       "</tr>\n",
       "<tr>\n",
       "    <td>AM</td>     <td>CJ</td>    <td>-0.0208</td> <td>-0.2164</td> <td>0.1748</td>   <td>False</td>\n",
       "</tr>\n",
       "<tr>\n",
       "    <td>AM</td>     <td>CM</td>    <td>-0.0383</td> <td>-0.2721</td> <td>0.1955</td>   <td>False</td>\n",
       "</tr>\n",
       "<tr>\n",
       "    <td>AM</td>     <td>CS</td>    <td>-0.0558</td> <td>-0.2514</td> <td>0.1398</td>   <td>False</td>\n",
       "</tr>\n",
       "<tr>\n",
       "    <td>AM</td>     <td>DJ</td>    <td>-0.1183</td> <td>-0.3521</td> <td>0.1155</td>   <td>False</td>\n",
       "</tr>\n",
       "<tr>\n",
       "    <td>AM</td>     <td>DM</td>    <td>-0.1613</td> <td>-0.3484</td> <td>0.0257</td>   <td>False</td>\n",
       "</tr>\n",
       "<tr>\n",
       "    <td>AM</td>     <td>DS</td>     <td>-0.15</td>  <td>-0.3591</td> <td>0.0591</td>   <td>False</td>\n",
       "</tr>\n",
       "<tr>\n",
       "    <td>AS</td>     <td>BJ</td>    <td>-0.288</td>  <td>-0.4431</td> <td>-0.1329</td>  <td>True</td> \n",
       "</tr>\n",
       "<tr>\n",
       "    <td>AS</td>     <td>BM</td>    <td>-0.3147</td> <td>-0.5017</td> <td>-0.1276</td>  <td>True</td> \n",
       "</tr>\n",
       "<tr>\n",
       "    <td>AS</td>     <td>BS</td>     <td>0.112</td>  <td>-0.1686</td> <td>0.3926</td>   <td>False</td>\n",
       "</tr>\n",
       "<tr>\n",
       "    <td>AS</td>     <td>CJ</td>    <td>0.0345</td>  <td>-0.1373</td> <td>0.2063</td>   <td>False</td>\n",
       "</tr>\n",
       "<tr>\n",
       "    <td>AS</td>     <td>CM</td>     <td>0.017</td>  <td>-0.1973</td> <td>0.2313</td>   <td>False</td>\n",
       "</tr>\n",
       "<tr>\n",
       "    <td>AS</td>     <td>CS</td>    <td>-0.0005</td> <td>-0.1723</td> <td>0.1713</td>   <td>False</td>\n",
       "</tr>\n",
       "<tr>\n",
       "    <td>AS</td>     <td>DJ</td>    <td>-0.063</td>  <td>-0.2773</td> <td>0.1513</td>   <td>False</td>\n",
       "</tr>\n",
       "<tr>\n",
       "    <td>AS</td>     <td>DM</td>    <td>-0.106</td>  <td>-0.268</td>   <td>0.056</td>   <td>False</td>\n",
       "</tr>\n",
       "<tr>\n",
       "    <td>AS</td>     <td>DS</td>    <td>-0.0947</td> <td>-0.2817</td> <td>0.0924</td>   <td>False</td>\n",
       "</tr>\n",
       "<tr>\n",
       "    <td>BJ</td>     <td>BM</td>    <td>-0.0267</td> <td>-0.2078</td> <td>0.1544</td>   <td>False</td>\n",
       "</tr>\n",
       "<tr>\n",
       "    <td>BJ</td>     <td>BS</td>      <td>0.4</td>   <td>0.1234</td>  <td>0.6766</td>   <td>True</td> \n",
       "</tr>\n",
       "<tr>\n",
       "    <td>BJ</td>     <td>CJ</td>    <td>0.3225</td>  <td>0.1572</td>  <td>0.4878</td>   <td>True</td> \n",
       "</tr>\n",
       "<tr>\n",
       "    <td>BJ</td>     <td>CM</td>     <td>0.305</td>  <td>0.0959</td>  <td>0.5141</td>   <td>True</td> \n",
       "</tr>\n",
       "<tr>\n",
       "    <td>BJ</td>     <td>CS</td>    <td>0.2875</td>  <td>0.1222</td>  <td>0.4528</td>   <td>True</td> \n",
       "</tr>\n",
       "<tr>\n",
       "    <td>BJ</td>     <td>DJ</td>     <td>0.225</td>  <td>0.0159</td>  <td>0.4341</td>   <td>True</td> \n",
       "</tr>\n",
       "<tr>\n",
       "    <td>BJ</td>     <td>DM</td>     <td>0.182</td>  <td>0.0269</td>  <td>0.3371</td>   <td>True</td> \n",
       "</tr>\n",
       "<tr>\n",
       "    <td>BJ</td>     <td>DS</td>    <td>0.1933</td>  <td>0.0122</td>  <td>0.3744</td>   <td>True</td> \n",
       "</tr>\n",
       "<tr>\n",
       "    <td>BM</td>     <td>BS</td>    <td>0.4267</td>  <td>0.1309</td>  <td>0.7224</td>   <td>True</td> \n",
       "</tr>\n",
       "<tr>\n",
       "    <td>BM</td>     <td>CJ</td>    <td>0.3492</td>  <td>0.1536</td>  <td>0.5448</td>   <td>True</td> \n",
       "</tr>\n",
       "<tr>\n",
       "    <td>BM</td>     <td>CM</td>    <td>0.3317</td>  <td>0.0979</td>  <td>0.5655</td>   <td>True</td> \n",
       "</tr>\n",
       "<tr>\n",
       "    <td>BM</td>     <td>CS</td>    <td>0.3142</td>  <td>0.1186</td>  <td>0.5098</td>   <td>True</td> \n",
       "</tr>\n",
       "<tr>\n",
       "    <td>BM</td>     <td>DJ</td>    <td>0.2517</td>  <td>0.0179</td>  <td>0.4855</td>   <td>True</td> \n",
       "</tr>\n",
       "<tr>\n",
       "    <td>BM</td>     <td>DM</td>    <td>0.2087</td>  <td>0.0216</td>  <td>0.3957</td>   <td>True</td> \n",
       "</tr>\n",
       "<tr>\n",
       "    <td>BM</td>     <td>DS</td>     <td>0.22</td>   <td>0.0109</td>  <td>0.4291</td>   <td>True</td> \n",
       "</tr>\n",
       "<tr>\n",
       "    <td>BS</td>     <td>CJ</td>    <td>-0.0775</td> <td>-0.3638</td> <td>0.2088</td>   <td>False</td>\n",
       "</tr>\n",
       "<tr>\n",
       "    <td>BS</td>     <td>CM</td>    <td>-0.095</td>  <td>-0.4087</td> <td>0.2187</td>   <td>False</td>\n",
       "</tr>\n",
       "<tr>\n",
       "    <td>BS</td>     <td>CS</td>    <td>-0.1125</td> <td>-0.3988</td> <td>0.1738</td>   <td>False</td>\n",
       "</tr>\n",
       "<tr>\n",
       "    <td>BS</td>     <td>DJ</td>    <td>-0.175</td>  <td>-0.4887</td> <td>0.1387</td>   <td>False</td>\n",
       "</tr>\n",
       "<tr>\n",
       "    <td>BS</td>     <td>DM</td>    <td>-0.218</td>  <td>-0.4986</td> <td>0.0626</td>   <td>False</td>\n",
       "</tr>\n",
       "<tr>\n",
       "    <td>BS</td>     <td>DS</td>    <td>-0.2067</td> <td>-0.5024</td> <td>0.0891</td>   <td>False</td>\n",
       "</tr>\n",
       "<tr>\n",
       "    <td>CJ</td>     <td>CM</td>    <td>-0.0175</td> <td>-0.2393</td> <td>0.2043</td>   <td>False</td>\n",
       "</tr>\n",
       "<tr>\n",
       "    <td>CJ</td>     <td>CS</td>    <td>-0.035</td>  <td>-0.2161</td> <td>0.1461</td>   <td>False</td>\n",
       "</tr>\n",
       "<tr>\n",
       "    <td>CJ</td>     <td>DJ</td>    <td>-0.0975</td> <td>-0.3193</td> <td>0.1243</td>   <td>False</td>\n",
       "</tr>\n",
       "<tr>\n",
       "    <td>CJ</td>     <td>DM</td>    <td>-0.1405</td> <td>-0.3123</td> <td>0.0313</td>   <td>False</td>\n",
       "</tr>\n",
       "<tr>\n",
       "    <td>CJ</td>     <td>DS</td>    <td>-0.1292</td> <td>-0.3248</td> <td>0.0664</td>   <td>False</td>\n",
       "</tr>\n",
       "<tr>\n",
       "    <td>CM</td>     <td>CS</td>    <td>-0.0175</td> <td>-0.2393</td> <td>0.2043</td>   <td>False</td>\n",
       "</tr>\n",
       "<tr>\n",
       "    <td>CM</td>     <td>DJ</td>     <td>-0.08</td>  <td>-0.3361</td> <td>0.1761</td>   <td>False</td>\n",
       "</tr>\n",
       "<tr>\n",
       "    <td>CM</td>     <td>DM</td>    <td>-0.123</td>  <td>-0.3373</td> <td>0.0913</td>   <td>False</td>\n",
       "</tr>\n",
       "<tr>\n",
       "    <td>CM</td>     <td>DS</td>    <td>-0.1117</td> <td>-0.3455</td> <td>0.1221</td>   <td>False</td>\n",
       "</tr>\n",
       "<tr>\n",
       "    <td>CS</td>     <td>DJ</td>    <td>-0.0625</td> <td>-0.2843</td> <td>0.1593</td>   <td>False</td>\n",
       "</tr>\n",
       "<tr>\n",
       "    <td>CS</td>     <td>DM</td>    <td>-0.1055</td> <td>-0.2773</td> <td>0.0663</td>   <td>False</td>\n",
       "</tr>\n",
       "<tr>\n",
       "    <td>CS</td>     <td>DS</td>    <td>-0.0942</td> <td>-0.2898</td> <td>0.1014</td>   <td>False</td>\n",
       "</tr>\n",
       "<tr>\n",
       "    <td>DJ</td>     <td>DM</td>    <td>-0.043</td>  <td>-0.2573</td> <td>0.1713</td>   <td>False</td>\n",
       "</tr>\n",
       "<tr>\n",
       "    <td>DJ</td>     <td>DS</td>    <td>-0.0317</td> <td>-0.2655</td> <td>0.2021</td>   <td>False</td>\n",
       "</tr>\n",
       "<tr>\n",
       "    <td>DM</td>     <td>DS</td>    <td>0.0113</td>  <td>-0.1757</td> <td>0.1984</td>   <td>False</td>\n",
       "</tr>\n",
       "</table>"
      ],
      "text/plain": [
       "<class 'statsmodels.iolib.table.SimpleTable'>"
      ]
     },
     "execution_count": 23,
     "metadata": {},
     "output_type": "execute_result"
    }
   ],
   "source": [
    "tukey_results = pairwise_tukeyhsd(df['Accuracy'], df['Group']+df['Level'])\n",
    "tukey_results.summary()"
   ]
  },
  {
   "cell_type": "code",
   "execution_count": 24,
   "metadata": {
    "slideshow": {
     "slide_type": "slide"
    }
   },
   "outputs": [
    {
     "data": {
      "image/png": "[encoded data removed]",
      "text/plain": [
       "<Figure size 720x432 with 1 Axes>"
      ]
     },
     "metadata": {
      "needs_background": "light"
     },
     "output_type": "display_data"
    }
   ],
   "source": [
    "tukey_results.plot_simultaneous()\n",
    "plt.show()"
   ]
  },
  {
   "cell_type": "code",
   "execution_count": 25,
   "metadata": {
    "slideshow": {
     "slide_type": "slide"
    }
   },
   "outputs": [
    {
     "data": {
      "image/png": "[encoded data removed]",
      "text/plain": [
       "<Figure size 432x288 with 1 Axes>"
      ]
     },
     "metadata": {
      "needs_background": "light"
     },
     "output_type": "display_data"
    }
   ],
   "source": [
    "from statsmodels.graphics.factorplots import interaction_plot\n",
    "interaction_plot(response=df['Accuracy'], trace=df['Group'],  x=df['Level'].astype('category').cat.codes)\n",
    "plt.xlabel('Level - J,M,S')\n",
    "plt.show()"
   ]
  },
  {
   "cell_type": "markdown",
   "metadata": {
    "slideshow": {
     "slide_type": "slide"
    }
   },
   "source": [
    "# <center> Activity"
   ]
  },
  {
   "cell_type": "markdown",
   "metadata": {
    "slideshow": {
     "slide_type": "fragment"
    }
   },
   "source": [
    "A company has been testing out different ad configurations on YouTube videos. They have tried modifying the position of the ad within the video, the length of the ad, the location of the call-to-action button linking to their website, the color of the ad background, the background music, and the category of video the ad is placed on. <br><br>\n",
    "They have compiled a collection of various experiments with the corresponding number of conversions, or visits to their website resulting from each ad, in the 'youtube_ad_data.csv' file. <br><br>\n",
    "You have been tasked with coming up with and testing at least one hypothesis about what features have an effect on conversion. <br><br>\n",
    "Using one- or two-way ANOVA, design and test a hypothesis and present the results."
   ]
  },
  {
   "cell_type": "code",
   "execution_count": null,
   "metadata": {},
   "outputs": [],
   "source": []
  },
  {
   "cell_type": "code",
   "execution_count": null,
   "metadata": {},
   "outputs": [],
   "source": []
  },
  {
   "cell_type": "code",
   "execution_count": null,
   "metadata": {},
   "outputs": [],
   "source": []
  },
  {
   "cell_type": "code",
   "execution_count": null,
   "metadata": {},
   "outputs": [],
   "source": []
  },
  {
   "cell_type": "code",
   "execution_count": null,
   "metadata": {},
   "outputs": [],
   "source": []
  }
 ],
 "metadata": {
  "celltoolbar": "Slideshow",
  "kernelspec": {
   "display_name": "Python 3",
   "language": "python",
   "name": "python3"
  },
  "language_info": {
   "codemirror_mode": {
    "name": "ipython",
    "version": 3
   },
   "file_extension": ".py",
   "mimetype": "text/x-python",
   "name": "python",
   "nbconvert_exporter": "python",
   "pygments_lexer": "ipython3",
   "version": "3.5.6"
  }
 },
 "nbformat": 4,
 "nbformat_minor": 2
}
