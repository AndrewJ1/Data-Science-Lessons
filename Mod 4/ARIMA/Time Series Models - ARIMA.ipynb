{
 "cells": [
  {
   "cell_type": "markdown",
   "metadata": {
    "slideshow": {
     "slide_type": "slide"
    }
   },
   "source": [
    "## <center> Time Series Modeling"
   ]
  },
  {
   "cell_type": "markdown",
   "metadata": {
    "slideshow": {
     "slide_type": "slide"
    }
   },
   "source": [
    "### Objectives\n",
    "- Understand and build AR, MA, and ARIMA models\n",
    "- Compare time series models\n",
    "- Develop forecasts"
   ]
  },
  {
   "cell_type": "code",
   "execution_count": null,
   "metadata": {
    "slideshow": {
     "slide_type": "slide"
    }
   },
   "outputs": [],
   "source": [
    "import pandas as pd\n",
    "import numpy as np\n",
    "import matplotlib.pyplot as plt\n",
    "import warnings\n",
    "warnings.filterwarnings('ignore')"
   ]
  },
  {
   "cell_type": "markdown",
   "metadata": {
    "slideshow": {
     "slide_type": "slide"
    }
   },
   "source": [
    "## <center> Autoregressive Models (AR)"
   ]
  },
  {
   "cell_type": "markdown",
   "metadata": {
    "slideshow": {
     "slide_type": "fragment"
    }
   },
   "source": [
    "<center> Today = constant + slope×yesterday + noise"
   ]
  },
  {
   "cell_type": "markdown",
   "metadata": {
    "slideshow": {
     "slide_type": "fragment"
    }
   },
   "source": [
    "<center> 𝑌𝑡=𝜇+𝜙∗𝑌𝑡−1+𝜖𝑡"
   ]
  },
  {
   "cell_type": "code",
   "execution_count": null,
   "metadata": {
    "scrolled": false,
    "slideshow": {
     "slide_type": "slide"
    }
   },
   "outputs": [],
   "source": [
    "## AR\n",
    "n = 12*10\n",
    "mu = 8\n",
    "phi = 0.7\n",
    "noise_weight = 1\n",
    "noise = noise_weight*np.random.normal(size=n)\n",
    "values = np.ones(n)\n",
    "data = []\n",
    "for i,x in enumerate(values):\n",
    "    data.append(mu + phi*(data[i-1]-mu) + noise[i] if i>1 else mu + phi + noise[i])\n",
    "date_vals = pd.date_range(start='1/1/2008', periods=n, freq='M')\n",
    "time_series =  pd.Series(data, index=date_vals)\n",
    "time_series.index = pd.DatetimeIndex(time_series.index)\n",
    "time_series.plot()"
   ]
  },
  {
   "cell_type": "code",
   "execution_count": null,
   "metadata": {
    "slideshow": {
     "slide_type": "slide"
    }
   },
   "outputs": [],
   "source": [
    "from statsmodels.tsa.arima_model import ARMA\n",
    "import statsmodels.api as sm\n",
    "ar_model = ARMA(time_series, order=(1,0)).fit()\n",
    "print(ar_model.summary())\n",
    "print(ar_model.params)"
   ]
  },
  {
   "cell_type": "code",
   "execution_count": null,
   "metadata": {
    "slideshow": {
     "slide_type": "slide"
    }
   },
   "outputs": [],
   "source": [
    "ar_model.plot_predict(1,n+12); plt.show()"
   ]
  },
  {
   "cell_type": "markdown",
   "metadata": {
    "slideshow": {
     "slide_type": "slide"
    }
   },
   "source": [
    "## <center> Moving Average Models (MA)"
   ]
  },
  {
   "cell_type": "markdown",
   "metadata": {
    "slideshow": {
     "slide_type": "fragment"
    }
   },
   "source": [
    "<center> Today = Mean + Noise + Slope×yesterday's noise"
   ]
  },
  {
   "cell_type": "markdown",
   "metadata": {
    "slideshow": {
     "slide_type": "fragment"
    }
   },
   "source": [
    "<center> 𝑌𝑡=𝜇+𝜖𝑡+𝜃∗𝜖𝑡−1"
   ]
  },
  {
   "cell_type": "code",
   "execution_count": null,
   "metadata": {
    "slideshow": {
     "slide_type": "slide"
    }
   },
   "outputs": [],
   "source": [
    "## MA\n",
    "n = 12*10\n",
    "mu = 8\n",
    "theta = 0.9\n",
    "noise_weight = 1\n",
    "errors = noise_weight*np.random.normal(size=n)\n",
    "values = np.ones(n)\n",
    "data = []\n",
    "for i,x in enumerate(values):\n",
    "    data.append(mu + theta*errors[i-1] + errors[i] if i>1 else mu + errors[i])\n",
    "date_vals = pd.date_range(start='1/1/2008', periods=n, freq='M')\n",
    "time_series =  pd.Series(data, index=date_vals)\n",
    "time_series.index = pd.DatetimeIndex(time_series.index)\n",
    "time_series.plot()"
   ]
  },
  {
   "cell_type": "code",
   "execution_count": null,
   "metadata": {
    "slideshow": {
     "slide_type": "slide"
    }
   },
   "outputs": [],
   "source": [
    "ma_model = ARMA(time_series, order=(0,1)).fit()\n",
    "print(ma_model.summary())\n",
    "print(ma_model.params)"
   ]
  },
  {
   "cell_type": "code",
   "execution_count": null,
   "metadata": {
    "slideshow": {
     "slide_type": "slide"
    }
   },
   "outputs": [],
   "source": [
    "ma_model.plot_predict(1,n+12); plt.show()"
   ]
  },
  {
   "cell_type": "markdown",
   "metadata": {
    "slideshow": {
     "slide_type": "slide"
    }
   },
   "source": [
    "## <center> ARMA"
   ]
  },
  {
   "cell_type": "markdown",
   "metadata": {
    "slideshow": {
     "slide_type": "fragment"
    }
   },
   "source": [
    "<center> Combines both AR and MA components into one model."
   ]
  },
  {
   "cell_type": "markdown",
   "metadata": {
    "slideshow": {
     "slide_type": "fragment"
    }
   },
   "source": [
    "<center> 𝑌𝑡 = 𝜇 + 𝜙∗𝑌𝑡−1 + 𝜖𝑡 + 𝜃∗𝜖𝑡−1"
   ]
  },
  {
   "cell_type": "code",
   "execution_count": null,
   "metadata": {
    "slideshow": {
     "slide_type": "slide"
    }
   },
   "outputs": [],
   "source": [
    "## ARMA\n",
    "n = 12*10\n",
    "mu = 8\n",
    "phi = 0.7\n",
    "theta = 0.9\n",
    "noise_weight = 1\n",
    "errors = noise_weight*np.random.normal(size=n)\n",
    "values = np.ones(n)\n",
    "data = []\n",
    "for i,x in enumerate(values):\n",
    "    data.append(mu + phi*(data[i-1]-mu) + errors[i] + theta*errors[i-1]  if i>1 else mu + phi + errors[i])\n",
    "date_vals = pd.date_range(start='1/1/2008', periods=n, freq='M')\n",
    "time_series =  pd.Series(data, index=date_vals)\n",
    "time_series.index = pd.DatetimeIndex(time_series.index)\n",
    "time_series.plot()"
   ]
  },
  {
   "cell_type": "code",
   "execution_count": null,
   "metadata": {
    "slideshow": {
     "slide_type": "slide"
    }
   },
   "outputs": [],
   "source": [
    "arma_model = ARMA(time_series, order=(1,1)).fit()\n",
    "print(arma_model.summary())\n",
    "print(arma_model.params)"
   ]
  },
  {
   "cell_type": "code",
   "execution_count": null,
   "metadata": {
    "slideshow": {
     "slide_type": "slide"
    }
   },
   "outputs": [],
   "source": [
    "arma_model.plot_predict(1,n+12); plt.show()"
   ]
  },
  {
   "cell_type": "markdown",
   "metadata": {
    "slideshow": {
     "slide_type": "slide"
    }
   },
   "source": [
    "## <center> ARIMA"
   ]
  },
  {
   "cell_type": "markdown",
   "metadata": {
    "slideshow": {
     "slide_type": "fragment"
    }
   },
   "source": [
    "<center> Combines AR and MA components as well as an <b> Integrated </b> component which accounts for trends."
   ]
  },
  {
   "cell_type": "markdown",
   "metadata": {
    "slideshow": {
     "slide_type": "fragment"
    }
   },
   "source": [
    "<center>AR, MA, and ARMA models require stationarity. <br>\n",
    "ARIMA models can handle non-stationary time series due to the <b>I</b> component."
   ]
  },
  {
   "cell_type": "code",
   "execution_count": null,
   "metadata": {
    "slideshow": {
     "slide_type": "slide"
    }
   },
   "outputs": [],
   "source": [
    "## ARIMA\n",
    "n = 12*10\n",
    "mu = 8\n",
    "phi = 0.7\n",
    "theta = 0.9\n",
    "noise_weight = 1\n",
    "errors = noise_weight*np.random.normal(size=n)\n",
    "values = np.ones(n)\n",
    "data = []\n",
    "for i,x in enumerate(values):\n",
    "    data.append(mu + phi*(data[i-1]-mu) + errors[i] + theta*errors[i-1] + 0.05*i  if i>1 else mu + phi + errors[i])\n",
    "date_vals = pd.date_range(start='1/1/2008', periods=n, freq='M')\n",
    "time_series =  pd.Series(data, index=date_vals)\n",
    "time_series.index = pd.DatetimeIndex(time_series.index)\n",
    "time_series.plot()"
   ]
  },
  {
   "cell_type": "code",
   "execution_count": null,
   "metadata": {
    "slideshow": {
     "slide_type": "slide"
    }
   },
   "outputs": [],
   "source": [
    "arma_model = ARMA(time_series, order=(1,1)).fit()\n",
    "arma_model.plot_predict(1,n+12); plt.show()"
   ]
  },
  {
   "cell_type": "code",
   "execution_count": null,
   "metadata": {
    "slideshow": {
     "slide_type": "slide"
    }
   },
   "outputs": [],
   "source": [
    "from statsmodels.tsa.arima_model import ARIMA"
   ]
  },
  {
   "cell_type": "code",
   "execution_count": null,
   "metadata": {
    "slideshow": {
     "slide_type": "fragment"
    }
   },
   "outputs": [],
   "source": [
    "arima_model = ARIMA(time_series, order=(1,1,1)).fit()\n",
    "arima_model.plot_predict(1,n+12); plt.show()"
   ]
  },
  {
   "cell_type": "code",
   "execution_count": null,
   "metadata": {
    "slideshow": {
     "slide_type": "slide"
    }
   },
   "outputs": [],
   "source": [
    "n = 12*10\n",
    "mu = 8\n",
    "phi = 0.12\n",
    "phi_2 = 0.08\n",
    "theta = 2\n",
    "noise_weight = 1.5\n",
    "errors = noise_weight*np.random.normal(size=n)\n",
    "values = np.ones(n)\n",
    "data = []\n",
    "for i,x in enumerate(values):\n",
    "    data.append(mu + phi*(data[i-1]-mu) + phi_2*(data[i-2]-mu) + errors[i] + theta*errors[i-1] + 0.05*i  if i>2 else mu + phi + phi_2 + errors[i])\n",
    "date_vals = pd.date_range(start='1/1/2008', periods=n, freq='M')\n",
    "time_series =  pd.Series(data, index=date_vals)\n",
    "time_series.index = pd.DatetimeIndex(time_series.index)\n",
    "time_series.plot()"
   ]
  },
  {
   "cell_type": "code",
   "execution_count": null,
   "metadata": {
    "slideshow": {
     "slide_type": "slide"
    }
   },
   "outputs": [],
   "source": [
    "arima_model = ARIMA(time_series[0:-12], order=(1,0,1)).fit()\n",
    "arima_model.plot_predict(1,n); plt.show()"
   ]
  },
  {
   "cell_type": "code",
   "execution_count": null,
   "metadata": {
    "slideshow": {
     "slide_type": "fragment"
    }
   },
   "outputs": [],
   "source": [
    "from sklearn.metrics import mean_squared_error\n",
    "forecast = arima_model.forecast(steps=12)[0]\n",
    "actual = time_series[n-12:n]\n",
    "print('AIC:',arima_model.aic)\n",
    "print('BIC:', arima_model.bic)\n",
    "print('Forecast MSE:', mean_squared_error(actual, forecast))"
   ]
  },
  {
   "cell_type": "code",
   "execution_count": null,
   "metadata": {
    "slideshow": {
     "slide_type": "slide"
    }
   },
   "outputs": [],
   "source": [
    "time_series.diff().plot()"
   ]
  },
  {
   "cell_type": "code",
   "execution_count": null,
   "metadata": {
    "slideshow": {
     "slide_type": "slide"
    }
   },
   "outputs": [],
   "source": [
    "arima_model = ARIMA(time_series[0:-12], order=(1,1,1)).fit()\n",
    "forecast = arima_model.forecast(steps=12)[0]\n",
    "actual = time_series[n-12:n]\n",
    "print('AIC:',arima_model.aic)\n",
    "print('BIC:', arima_model.bic)\n",
    "print('Forecast MSE:', mean_squared_error(actual, forecast))\n",
    "arima_model.plot_predict(1,n); plt.show()"
   ]
  },
  {
   "cell_type": "code",
   "execution_count": null,
   "metadata": {
    "scrolled": true,
    "slideshow": {
     "slide_type": "slide"
    }
   },
   "outputs": [],
   "source": [
    "from statsmodels.graphics.tsaplots import plot_acf, plot_pacf\n",
    "plot_acf(time_series.diff().bfill()); plt.xlim(0,24); plt.show()\n",
    "plot_pacf(time_series.diff().bfill()); plt.xlim(0,24); plt.ylim(-1,1);plt.show()"
   ]
  },
  {
   "cell_type": "code",
   "execution_count": null,
   "metadata": {
    "slideshow": {
     "slide_type": "slide"
    }
   },
   "outputs": [],
   "source": [
    "arima_model = ARIMA(time_series[0:-12], order=(2,1,1)).fit()\n",
    "forecast = arima_model.forecast(steps=12)[0]\n",
    "actual = time_series[n-12:n]\n",
    "print('AIC:',arima_model.aic)\n",
    "print('BIC:', arima_model.bic)\n",
    "print('Forecast MSE:', mean_squared_error(actual, forecast))\n",
    "arima_model.plot_predict(1,n); plt.show()"
   ]
  },
  {
   "cell_type": "markdown",
   "metadata": {
    "slideshow": {
     "slide_type": "slide"
    }
   },
   "source": [
    "## <center> Seasonal ARIMA (SARIMA)"
   ]
  },
  {
   "cell_type": "markdown",
   "metadata": {
    "slideshow": {
     "slide_type": "fragment"
    }
   },
   "source": [
    "<center> Adds a seasonal component with its own set of parameters."
   ]
  },
  {
   "cell_type": "markdown",
   "metadata": {
    "slideshow": {
     "slide_type": "fragment"
    }
   },
   "source": [
    "<center> SARIMA (p,d,q) (P,D,Q,m)"
   ]
  },
  {
   "cell_type": "code",
   "execution_count": null,
   "metadata": {
    "slideshow": {
     "slide_type": "slide"
    }
   },
   "outputs": [],
   "source": [
    "n = 12*10\n",
    "mu = 8\n",
    "phi = 0.12\n",
    "phi_2 = 0.08\n",
    "theta = 2\n",
    "noise_weight = 1.5\n",
    "errors = noise_weight*np.random.normal(size=n)\n",
    "values = np.ones(n)\n",
    "data = []\n",
    "date_vals = pd.date_range(start='1/1/2008', periods=n, freq='M')\n",
    "for i,x in enumerate(values):\n",
    "    data.append(3*date_vals[i].month + mu + phi*(data[i-1]-mu) + phi_2*(data[i-2]-mu) + errors[i] + theta*errors[i-1] + 0.05*i  if i>2 else mu + phi + phi_2 + errors[i])\n",
    "time_series =  pd.Series(data, index=date_vals)\n",
    "time_series.index = pd.DatetimeIndex(time_series.index)\n",
    "time_series.plot()"
   ]
  },
  {
   "cell_type": "code",
   "execution_count": null,
   "metadata": {
    "slideshow": {
     "slide_type": "slide"
    }
   },
   "outputs": [],
   "source": [
    "arima_model = ARIMA(time_series[0:-12], order=(1,0,1)).fit()\n",
    "forecast = arima_model.forecast(steps=12)[0]\n",
    "actual = time_series[n-12:n]\n",
    "print('AIC:',arima_model.aic)\n",
    "print('BIC:', arima_model.bic)\n",
    "print('Forecast MSE:', mean_squared_error(actual, forecast))\n",
    "plt.plot(date_vals[n-12:n],forecast)\n",
    "actual.plot(); plt.legend(['Forecast','Actual'])"
   ]
  },
  {
   "cell_type": "code",
   "execution_count": null,
   "metadata": {
    "slideshow": {
     "slide_type": "slide"
    }
   },
   "outputs": [],
   "source": [
    "from statsmodels.tsa.statespace.sarimax import SARIMAX\n",
    "sarima = SARIMAX(time_series[0:-12], order=(1,1,1), seasonal_order=(1,0,0,12)).fit()\n",
    "forecast = sarima.forecast(steps=12)\n",
    "actual = time_series[n-12:n]\n",
    "print('AIC:',sarima.aic)\n",
    "print('BIC:', sarima.bic)\n",
    "print('Forecast MSE:', mean_squared_error(actual, forecast))\n",
    "forecast.plot();actual.plot();plt.legend(['Forecast','Actual'])"
   ]
  },
  {
   "cell_type": "markdown",
   "metadata": {
    "slideshow": {
     "slide_type": "slide"
    }
   },
   "source": [
    "## <center> Activity"
   ]
  },
  {
   "cell_type": "markdown",
   "metadata": {
    "slideshow": {
     "slide_type": "fragment"
    }
   },
   "source": [
    "<center>Using the data found in <i>price_data.csv</i> fit an appropriate time series model.<br><br>\n",
    "Train the model on the first 4 years of data and test the model on the most recent year."
   ]
  },
  {
   "cell_type": "code",
   "execution_count": null,
   "metadata": {},
   "outputs": [],
   "source": []
  },
  {
   "cell_type": "code",
   "execution_count": null,
   "metadata": {},
   "outputs": [],
   "source": []
  },
  {
   "cell_type": "code",
   "execution_count": null,
   "metadata": {},
   "outputs": [],
   "source": []
  },
  {
   "cell_type": "code",
   "execution_count": null,
   "metadata": {},
   "outputs": [],
   "source": []
  }
 ],
 "metadata": {
  "celltoolbar": "Slideshow",
  "kernelspec": {
   "display_name": "Python 3",
   "language": "python",
   "name": "python3"
  },
  "language_info": {
   "codemirror_mode": {
    "name": "ipython",
    "version": 3
   },
   "file_extension": ".py",
   "mimetype": "text/x-python",
   "name": "python",
   "nbconvert_exporter": "python",
   "pygments_lexer": "ipython3",
   "version": "3.5.6"
  }
 },
 "nbformat": 4,
 "nbformat_minor": 2
}
